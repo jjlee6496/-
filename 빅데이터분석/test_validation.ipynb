{
  "nbformat": 4,
  "nbformat_minor": 0,
  "metadata": {
    "colab": {
      "name": "06.ipynb",
      "provenance": [],
      "collapsed_sections": [],
      "authorship_tag": "ABX9TyMVm+AF62JGViQkZRqmxRHq",
      "include_colab_link": true
    },
    "kernelspec": {
      "name": "python3",
      "display_name": "Python 3"
    },
    "language_info": {
      "name": "python"
    }
  },
  "cells": [
    {
      "cell_type": "markdown",
      "metadata": {
        "id": "view-in-github",
        "colab_type": "text"
      },
      "source": [
        "<a href=\"https://colab.research.google.com/github/jjlee6496/one-by-one/blob/main/%EB%B9%85%EB%8D%B0%EC%9D%B4%ED%84%B0%EB%B6%84%EC%84%9D/test_validation.ipynb\" target=\"_parent\"><img src=\"https://colab.research.google.com/assets/colab-badge.svg\" alt=\"Open In Colab\"/></a>"
      ]
    },
    {
      "cell_type": "markdown",
      "source": [
        "# 과제1 : 주택 가격으로부터 범죄율을 예측하는 모델을 만들고, 예측 결과의 상관계수를 계산하시오"
      ],
      "metadata": {
        "id": "YCxt53VDFIxv"
      }
    },
    {
      "cell_type": "code",
      "execution_count": 12,
      "metadata": {
        "id": "zpvVnq-KFGxE"
      },
      "outputs": [],
      "source": [
        "import numpy as np\n",
        "import pandas as pd\n",
        "from sklearn.datasets import load_boston\n",
        "import matplotlib.pyplot as plt\n",
        "import warnings\n",
        "\n",
        "warnings.filterwarnings(action='ignore') \n",
        "\n",
        "boston =  load_boston()\n",
        "boston_df = pd.DataFrame(boston.data, columns = boston.feature_names)\n",
        "boston_df['PRICE'] = boston.target"
      ]
    },
    {
      "cell_type": "code",
      "source": [
        "from sklearn.linear_model import LinearRegression\n",
        "from sklearn.model_selection import train_test_split\n",
        "from sklearn.metrics import mean_squared_error\n",
        "from scipy import stats\n",
        "\n",
        "Y = boston_df['CRIM']\n",
        "X = boston_df[['PRICE']]\n",
        "X_train, X_test, Y_train, Y_test = train_test_split(X, Y, test_size=0.3, random_state=156)\n",
        "\n",
        "lr = LinearRegression()\n",
        "lr.fit(X_train, Y_train)\n",
        "Y_predict = lr.predict(X_test)\n",
        "\n",
        "plt.scatter(Y_test, Y_predict)\n",
        "print(stats.pearsonr(Y_test, Y_predict))"
      ],
      "metadata": {
        "colab": {
          "base_uri": "https://localhost:8080/",
          "height": 283
        },
        "id": "OjWJxrdiQy41",
        "outputId": "66dfacf8-c3ac-440a-d7b7-b12154a385a6"
      },
      "execution_count": 15,
      "outputs": [
        {
          "output_type": "stream",
          "name": "stdout",
          "text": [
            "(0.42300001056873704, 5.664070964208682e-08)\n"
          ]
        },
        {
          "output_type": "display_data",
          "data": {
            "text/plain": [
              "<Figure size 432x288 with 1 Axes>"
            ],
            "image/png": "[encoded data removed]"
          },
          "metadata": {
            "needs_background": "light"
          }
        }
      ]
    },
    {
      "cell_type": "markdown",
      "source": [
        "상관계수가 0.4로 약간의 선형관계가 있다."
      ],
      "metadata": {
        "id": "0dQcxm1kWv_N"
      }
    },
    {
      "cell_type": "markdown",
      "source": [
        "# 과제2 : horsepower를 1/10 로 줄이고, 회귀계수가 어떻게 변하는지 본다."
      ],
      "metadata": {
        "id": "L7CEbhGCQUbb"
      }
    },
    {
      "cell_type": "code",
      "source": [
        "import numpy as np\n",
        "import pandas as pd \n",
        "\n",
        "data_df = pd.read_csv('auto-mpg.csv', header=0, engine='python')\n",
        "data_df = data_df.drop(['car_name', 'origin'], axis=1, inplace=False)\n",
        "data_df.horsepower=data_df.horsepower.replace('?', np.NaN)\n",
        "data_df=data_df.dropna()\n",
        "data_df.horsepower= data_df.horsepower.astype('int')\n",
        "data_df2 = data_df.copy()\n",
        "data_df2.horsepower=data_df2.horsepower*0.1"
      ],
      "metadata": {
        "id": "nnN5shZKQUz4"
      },
      "execution_count": 40,
      "outputs": []
    },
    {
      "cell_type": "code",
      "source": [
        "from sklearn.linear_model import LinearRegression\n",
        "from sklearn.model_selection import train_test_split\n",
        "from sklearn.metrics import mean_squared_error, r2_score\n",
        "\n",
        "# 원래 회귀계수\n",
        "Y = data_df['mpg']\n",
        "X = data_df.drop(['mpg'], axis=1, inplace=False)\n",
        "X_train, X_test, Y_train, Y_test = train_test_split(X, Y, test_size=0.3, random_state=156)\n",
        "\n",
        "lr = LinearRegression()\n",
        "lr.fit(X_train, Y_train)\n",
        "Y_predict = lr.predict(X_test)\n",
        "\n",
        "coef = pd.Series(data=np.round(lr.coef_, 3), index=X.columns)\n",
        "coef\n"
      ],
      "metadata": {
        "colab": {
          "base_uri": "https://localhost:8080/"
        },
        "id": "EXCvyVfTZmJj",
        "outputId": "4bc22435-4d35-4de6-dbb6-a4c9afb47300"
      },
      "execution_count": 43,
      "outputs": [
        {
          "output_type": "execute_result",
          "data": {
            "text/plain": [
              "cylinders      -0.024\n",
              "displacement    0.009\n",
              "horsepower     -0.019\n",
              "weight         -0.007\n",
              "acceleration    0.009\n",
              "model_year      0.759\n",
              "dtype: float64"
            ]
          },
          "metadata": {},
          "execution_count": 43
        }
      ]
    },
    {
      "cell_type": "code",
      "source": [
        "# 1/10 후 회귀계수\n",
        "Y2 = data_df2['mpg']\n",
        "X2 = data_df2.drop(['mpg'], axis=1, inplace=False)\n",
        "X_train2, X_test2, Y_train2, Y_test2 = train_test_split(X2, Y2, test_size=0.3, random_state=156)\n",
        "\n",
        "lr2 = LinearRegression()\n",
        "lr2.fit(X_train2, Y_train2)\n",
        "Y_predict = lr2.predict(X_test2)\n",
        "\n",
        "coef2 = pd.Series(data=np.round(lr2.coef_, 3), index=X.columns)\n",
        "coef2"
      ],
      "metadata": {
        "colab": {
          "base_uri": "https://localhost:8080/"
        },
        "id": "HYVPMKILae1g",
        "outputId": "2131d6ab-ddca-4c26-99e7-c31ba60e0dd7"
      },
      "execution_count": 47,
      "outputs": [
        {
          "output_type": "execute_result",
          "data": {
            "text/plain": [
              "cylinders      -0.024\n",
              "displacement    0.009\n",
              "horsepower     -0.189\n",
              "weight         -0.007\n",
              "acceleration    0.009\n",
              "model_year      0.759\n",
              "dtype: float64"
            ]
          },
          "metadata": {},
          "execution_count": 47
        }
      ]
    },
    {
      "cell_type": "markdown",
      "source": [
        "회귀계수 값이 -0.019에서 -0.189으로 절댓값이 10배 커졌다"
      ],
      "metadata": {
        "id": "mc4iEH9Vanvu"
      }
    }
  ]
}