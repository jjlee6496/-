{
 "cells": [
  {
   "cell_type": "markdown",
   "metadata": {},
   "source": [
    "# 1002번 터렛"
   ]
  },
  {
   "cell_type": "markdown",
   "metadata": {},
   "source": [
    "자세히 읽어보니 원을 두개 그려서 접점의 개수를 구하는 문제이다.\n",
    "동심원일때 조심"
   ]
  },
  {
   "cell_type": "code",
   "execution_count": 28,
   "metadata": {},
   "outputs": [],
   "source": [
    "def detecting():\n",
    "    x1,y1,r1,x2,y2,r2 = map(int,input().split())\n",
    "    d = ((x1-x2)**2 + (y1-y2)**2)**0.5\n",
    "    if d == 0 and r1==r2: #동심원인데 두 지름이 같을 때\n",
    "        print(-1)\n",
    "    elif r1-r2<d<r1+r2 and d !=0: \n",
    "        print(2)\n",
    "    elif (r1+r2 == d or r1-r2 == d)and d !=0:\n",
    "        print(1)\n",
    "    else: \n",
    "        print(0)"
   ]
  },
  {
   "cell_type": "code",
   "execution_count": null,
   "metadata": {},
   "outputs": [],
   "source": [
    "n = int(input())\n",
    "for i in range(n):\n",
    "    detecting()"
   ]
  },
  {
   "cell_type": "markdown",
   "metadata": {},
   "source": [
    "예제 입력대로는 정답인데 오답이라뜸.. 놓진 조건이 있나?"
   ]
  },
  {
   "cell_type": "code",
   "execution_count": 33,
   "metadata": {},
   "outputs": [
    {
     "name": "stdout",
     "output_type": "stream",
     "text": [
      "2\n",
      "1\n",
      "0\n"
     ]
    }
   ],
   "source": [
    "def abs(a):\n",
    "    if a>=0:\n",
    "        return(a)\n",
    "    else:\n",
    "        return(-a)\n",
    "def detecting():\n",
    "    x1,y1,r1,x2,y2,r2 = map(int,input().split())\n",
    "    d = ((x1-x2)**2 + (y1-y2)**2)**0.5\n",
    "    if d == 0 and r1==r2: #동심원인데 두 지름이 같을 때\n",
    "        print(-1)\n",
    "    elif abs(r1-r2)<d<r1+r2 and d !=0: \n",
    "        print(2)\n",
    "    elif (r1+r2 == d or abs(r1-r2) == d)and d !=0:\n",
    "        print(1)\n",
    "    else: \n",
    "        print(0)\n",
    "\n",
    "n = int(input())\n",
    "for i in range(n):\n",
    "    detecting()"
   ]
  },
  {
   "cell_type": "markdown",
   "metadata": {},
   "source": [
    "혹시나 하고 절댓값을 넣어줬더니 맞았다"
   ]
  },
  {
   "cell_type": "markdown",
   "metadata": {},
   "source": [
    "# 11729 하노이 탑 이동 순서"
   ]
  },
  {
   "cell_type": "code",
   "execution_count": 17,
   "metadata": {},
   "outputs": [],
   "source": [
    "def hanoi(n, start, mid, end):\n",
    "    if n==1:\n",
    "        print(start, end)\n",
    "\n",
    "    else:\n",
    "        hanoi(n-1, start, end, mid)\n",
    "        print(start, end)\n",
    "        hanoi(n-1, mid, start, end)"
   ]
  },
  {
   "cell_type": "code",
   "execution_count": 18,
   "metadata": {},
   "outputs": [
    {
     "name": "stdout",
     "output_type": "stream",
     "text": [
      "7\n",
      "1 3\n",
      "1 2\n",
      "3 2\n",
      "1 3\n",
      "2 1\n",
      "2 3\n",
      "1 3\n"
     ]
    }
   ],
   "source": [
    "n = int(input())\n",
    "print(2**n-1)\n",
    "hanoi(n,1,2,3)"
   ]
  },
  {
   "cell_type": "markdown",
   "metadata": {},
   "source": [
    "https://st-lab.tistory.com/96"
   ]
  },
  {
   "cell_type": "markdown",
   "metadata": {},
   "source": [
    "하지만나는 일반항 구할 머리가 없으므로 변수로 풀어보겠다"
   ]
  },
  {
   "cell_type": "code",
   "execution_count": 52,
   "metadata": {},
   "outputs": [
    {
     "name": "stdout",
     "output_type": "stream",
     "text": [
      "7\n",
      "1 3\n",
      "1 2\n",
      "3 2\n",
      "1 3\n",
      "2 1\n",
      "2 3\n",
      "1 3\n"
     ]
    }
   ],
   "source": [
    "def hanoi(n, start, mid, end):\n",
    "    cnt = 0\n",
    "    cnt_a = 0\n",
    "    cnt_b = 0\n",
    "    result = []\n",
    "    \n",
    "    if n==1:\n",
    "        cnt=1\n",
    "        result.append([start, end])\n",
    "        return cnt, result\n",
    "    \n",
    "    else:\n",
    "        cnt_a+=1\n",
    "        cnt_a, result_a = hanoi(n-1, start, end, mid)\n",
    "        result_a.append([start, end])\n",
    "        cnt_b+=1\n",
    "        cnt_b, result_b = hanoi(n-1, mid, start, end)\n",
    "        result = result_a + result_b\n",
    "        \n",
    "    return cnt_a + cnt_b + 1, result\n",
    "\n",
    "n = int(input())\n",
    "cnt, result = hanoi(n,1,2,3)\n",
    "print(cnt)\n",
    "for x,y in result:\n",
    "    print(x,y)\n"
   ]
  }
 ],
 "metadata": {
  "interpreter": {
   "hash": "1e5de5bc21757a8e9ffeaee1a4e988a914d63a2f917aa6a85d6a3b15bbfb59dd"
  },
  "kernelspec": {
   "display_name": "Python 3.8.0 64-bit (system)",
   "language": "python",
   "name": "python3"
  },
  "language_info": {
   "codemirror_mode": {
    "name": "ipython",
    "version": 3
   },
   "file_extension": ".py",
   "mimetype": "text/x-python",
   "name": "python",
   "nbconvert_exporter": "python",
   "pygments_lexer": "ipython3",
   "version": "3.8.0"
  },
  "orig_nbformat": 4
 },
 "nbformat": 4,
 "nbformat_minor": 2
}
