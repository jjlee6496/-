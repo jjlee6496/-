{
 "cells": [
  {
   "cell_type": "markdown",
   "metadata": {},
   "source": [
    "# 10828 스택"
   ]
  },
  {
   "cell_type": "code",
   "execution_count": 1,
   "metadata": {},
   "outputs": [],
   "source": [
    "import sys\n",
    "\n",
    "sys.stdin = open('예시.txt','r')#테스트 코드 입력할때 편함\n",
    "\n",
    "def stack(command):\n",
    "    if command.startswith('push'):\n",
    "        lst.append(command.strip(\"push \"))\n",
    "        \n",
    "    elif command == 'pop':\n",
    "        if len(lst)>0:\n",
    "            print(lst.pop())\n",
    "        else:\n",
    "            print(-1)\n",
    "            \n",
    "    elif command == 'size':\n",
    "        print(len(lst))\n",
    "        \n",
    "    elif command == 'empty':\n",
    "        if len(lst) > 0:\n",
    "            print(0)\n",
    "        else:\n",
    "            print(1)\n",
    "            \n",
    "    elif command == 'top':\n",
    "        if len(lst) > 0:\n",
    "            print(lst[-1])\n",
    "        else:\n",
    "            print(-1)\n",
    "            \n",
    "lst = []\n",
    "N = int(input())\n",
    "for _ in range(N):\n",
    "    command = sys.stdin.readline().strip()\n",
    "    stack(command)"
   ]
  }
 ],
 "metadata": {
  "interpreter": {
   "hash": "1e5de5bc21757a8e9ffeaee1a4e988a914d63a2f917aa6a85d6a3b15bbfb59dd"
  },
  "kernelspec": {
   "display_name": "Python 3.8.0 64-bit (system)",
   "language": "python",
   "name": "python3"
  },
  "language_info": {
   "codemirror_mode": {
    "name": "ipython",
    "version": 3
   },
   "file_extension": ".py",
   "mimetype": "text/x-python",
   "name": "python",
   "nbconvert_exporter": "python",
   "pygments_lexer": "ipython3",
   "version": "3.8.0"
  },
  "orig_nbformat": 4
 },
 "nbformat": 4,
 "nbformat_minor": 2
}
