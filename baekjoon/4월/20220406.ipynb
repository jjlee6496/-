{
 "cells": [
  {
   "cell_type": "markdown",
   "metadata": {},
   "source": [
    "# 1436번 영화감독 숌"
   ]
  },
  {
   "cell_type": "code",
   "execution_count": 6,
   "metadata": {},
   "outputs": [
    {
     "name": "stdout",
     "output_type": "stream",
     "text": [
      "6663\n"
     ]
    }
   ],
   "source": [
    "def end(N):\n",
    "    cnt = 1\n",
    "    num = 666\n",
    "    while cnt < N:\n",
    "        num += 1\n",
    "        if '666' in str(num):\n",
    "            cnt+=1\n",
    "    print(num)\n",
    "\n",
    "N = int(input())\n",
    "end(N)"
   ]
  },
  {
   "cell_type": "markdown",
   "metadata": {},
   "source": [
    "# 2839 설탕 배달 (모르겠음)"
   ]
  },
  {
   "cell_type": "code",
   "execution_count": null,
   "metadata": {},
   "outputs": [],
   "source": [
    "def delivery(N):\n",
    "    if (N%5)%3 ==0:\n",
    "        print(N//5+(N%5)//3)\n",
    "    elif (N%5)%3 != 0:\n",
    "        while N>0:\n",
    "            N-5"
   ]
  },
  {
   "cell_type": "code",
   "execution_count": null,
   "metadata": {},
   "outputs": [],
   "source": [
    "N = int(input())"
   ]
  },
  {
   "cell_type": "markdown",
   "metadata": {},
   "source": [
    "# 10814 나이순 정렬"
   ]
  },
  {
   "cell_type": "code",
   "execution_count": 7,
   "metadata": {},
   "outputs": [],
   "source": [
    "import sys\n",
    "n = int(sys.stdin.readline())\n",
    "user = []\n",
    "for _ in range(n):\n",
    "    user.append(list(sys.stdin.readline().split()))\n",
    "\n",
    "user.sort(key=lambda x: int(x[0]))\n",
    "\n",
    "for i in range(n):\n",
    "    print(user[i][0],user[i][1])"
   ]
  }
 ],
 "metadata": {
  "interpreter": {
   "hash": "1e5de5bc21757a8e9ffeaee1a4e988a914d63a2f917aa6a85d6a3b15bbfb59dd"
  },
  "kernelspec": {
   "display_name": "Python 3.8.0 64-bit (system)",
   "language": "python",
   "name": "python3"
  },
  "language_info": {
   "codemirror_mode": {
    "name": "ipython",
    "version": 3
   },
   "file_extension": ".py",
   "mimetype": "text/x-python",
   "name": "python",
   "nbconvert_exporter": "python",
   "pygments_lexer": "ipython3",
   "version": "3.8.0"
  },
  "orig_nbformat": 4
 },
 "nbformat": 4,
 "nbformat_minor": 2
}
