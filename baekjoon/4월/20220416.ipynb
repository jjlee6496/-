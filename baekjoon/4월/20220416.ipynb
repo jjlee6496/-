{
 "cells": [
  {
   "cell_type": "markdown",
   "metadata": {},
   "source": [
    "# 1978 소수 찾기\n",
    "1000이하 자연수\n",
    "1. 모든경우의수"
   ]
  },
  {
   "cell_type": "code",
   "execution_count": 1,
   "metadata": {},
   "outputs": [
    {
     "name": "stdout",
     "output_type": "stream",
     "text": [
      "3\n"
     ]
    }
   ],
   "source": [
    "def sosu(lst):\n",
    "    cnt = 0\n",
    "    res = []\n",
    "    for i in range(len(lst)):\n",
    "        for j in range(len(lst)):\n",
    "            if lst[i] == 1:\n",
    "                continue\n",
    "            elif lst[i]!=lst[j] and lst[i]%lst[j]==0:\n",
    "                continue\n",
    "            else:\n",
    "                res.append(lst[j])\n",
    "    return(len(set(res)))\n",
    "\n",
    "N = int(input())\n",
    "lst = list(map(int, input().split()))\n",
    "print(sosu(lst))"
   ]
  },
  {
   "cell_type": "markdown",
   "metadata": {},
   "source": [
    "예제는 되는데 만약 11 13 17 23 이런 수열이 있으면 안됨..  \n",
    "그래서 찾아봤는데소수 알고리즘에는 에라토스테네스의 체 라는 것이 있답니다  \n",
    "에라토스테네스의 체: 2부터 구하고자 하는 구간의 모든 수를 나열하고, 구간 내 가장큰수의 제곱근의 배수들을 제거(예를들어 100까지면 2부터 10까지의 배수제거)하면 남는 수들이 소수라고 한다."
   ]
  },
  {
   "cell_type": "code",
   "execution_count": 1,
   "metadata": {},
   "outputs": [
    {
     "name": "stdout",
     "output_type": "stream",
     "text": [
      "3\n"
     ]
    }
   ],
   "source": [
    "#에라토스테네스의 체 구현 reference: 위키피디아 에라토스테네스의 체\n",
    "def chae(N):\n",
    "    plst = [True]*N #모두 소수라고 간주\n",
    "    m = int(N ** 0.5) # 검사를 크기의 제곱근 만큼만 하면 된다\n",
    "    for i in range(2,m+1):\n",
    "        if plst[i] == True: #소수일경우 검사\n",
    "            for j in range(i+i, N , i):\n",
    "                plst[j] = False #i의 배수일경우 False 처리\n",
    "                \n",
    "    return [i for i in range(2, N) if plst[i] == True] #2부터 소수 출력\n",
    "\n",
    "sosu = chae(1000)\n",
    "\n",
    "N = int(input())\n",
    "lst = list(map(int, input().split()))\n",
    "\n",
    "cnt = 0\n",
    "for i in range(len(lst)):\n",
    "    if lst[i] in sosu:\n",
    "        cnt += 1\n",
    "print(cnt)"
   ]
  },
  {
   "cell_type": "markdown",
   "metadata": {},
   "source": [
    "# 6588 골드바흐의 추측\n",
    "\n",
    "n을 입력받고 n = a+b로 출력...\n",
    "1. 소수 만들기\n",
    "2. 함수구현\n",
    "\n",
    "아예 수열 전체를 일단 걸러놓은 상태로 받아놓음 -> n = i + (n-i) i를 이용해서 이렇게 n을 나타내는데 이때 i와 n-i 가 둘다 소수이면 된다.  \n",
    "골드바흐 추측은 맞았다는건가/?"
   ]
  },
  {
   "cell_type": "code",
   "execution_count": 16,
   "metadata": {},
   "outputs": [
    {
     "name": "stdout",
     "output_type": "stream",
     "text": [
      "8 = 3 + 5\n",
      "20 = 3 + 17\n",
      "42 = 5 + 37\n"
     ]
    }
   ],
   "source": [
    "def chae(N):\n",
    "    plst = [True]*N #모두 소수라고 간주\n",
    "    plst[0] = False\n",
    "    plst[1] = False #0,1은 소수가 아니므로 그냥 False 처리\n",
    "    m = int(N ** 0.5) # 검사를 크기의 제곱근 만큼만 하면 된다\n",
    "    for i in range(2,m+1):\n",
    "        if plst[i] == True: #소수일경우 검사\n",
    "            for j in range(i+i, N , i):\n",
    "                plst[j] = False #i의 배수일경우 False 처리\n",
    "                \n",
    "    return plst #인덱스번호가 소수이면 True가 들어가 있음\n",
    "\n",
    "sosu = chae(1000001)\n",
    "\n",
    "# 입력받은 수를 소수의 합으로 표현해주는 함수\n",
    "def gold(n):\n",
    "    for i in range(3, len(sosu)): #홀수 소수이므로 3부터 검사\n",
    "        if sosu[i] and sosu[n-i]: #i번째도 소수이고 n-i번째도 소수이면 출력\n",
    "           print(f'{n} = {i} + {n-i}')\n",
    "           break\n",
    "        \n",
    "#메인\n",
    "while True:\n",
    "    n = int(input())\n",
    "    if n == 0:\n",
    "        break\n",
    "    gold(n)"
   ]
  }
 ],
 "metadata": {
  "interpreter": {
   "hash": "1e5de5bc21757a8e9ffeaee1a4e988a914d63a2f917aa6a85d6a3b15bbfb59dd"
  },
  "kernelspec": {
   "display_name": "Python 3.8.0 64-bit (system)",
   "language": "python",
   "name": "python3"
  },
  "language_info": {
   "codemirror_mode": {
    "name": "ipython",
    "version": 3
   },
   "file_extension": ".py",
   "mimetype": "text/x-python",
   "name": "python",
   "nbconvert_exporter": "python",
   "pygments_lexer": "ipython3",
   "version": "3.8.0"
  },
  "orig_nbformat": 4
 },
 "nbformat": 4,
 "nbformat_minor": 2
}
