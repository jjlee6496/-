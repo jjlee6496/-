{
 "cells": [
  {
   "cell_type": "markdown",
   "metadata": {},
   "source": [
    "# 2389 설탕 배달\n",
    "greedy apparoach"
   ]
  },
  {
   "cell_type": "code",
   "execution_count": null,
   "metadata": {},
   "outputs": [],
   "source": [
    "def delivery(n):\n",
    "    cnt = 0\n",
    "    while n>=0: #n이 0보다 작아질때까지 반복\n",
    "        if n%5 == 0: #n이 5로 나누어 떨어지면 5kg짜리 드는게 이득\n",
    "            cnt += n//5\n",
    "            return(cnt)\n",
    "        n-=3 #3kg짜리 들어주고\n",
    "        cnt+=1\n",
    "    if n < 0: #n이 1,2에서 3을 빼서 -가 되면 방법이 없는 것, -1출력\n",
    "        return(-1)\n",
    "    else:\n",
    "        return(cnt)\n",
    "\n",
    "\n",
    "n = int(input())\n",
    "print(delivery(n)) "
   ]
  },
  {
   "cell_type": "markdown",
   "metadata": {},
   "source": [
    "dynamic programming"
   ]
  },
  {
   "cell_type": "code",
   "execution_count": null,
   "metadata": {},
   "outputs": [],
   "source": [
    "n = int(input())\n",
    "dp = [5001]*(n+6) #n의 범위가 5000까지 이므로 5001로 이루어진 리스트 생성, for문에서 인덱스 범위 안걸리려고 n+6\n",
    "dp[3]=dp[5]=1 # 배달할 무게가 3이나 5면 한개만 들면 됨\n",
    "\n",
    "#4는 방법이 없으니까 6부터\n",
    "for i in range(6,n+1):\n",
    "    if dp[i-3]:\n",
    "        dp[i] = dp[i-3] + 1 #3kg짜리 하나 더 들기\n",
    "    if dp[i-5]:\n",
    "        dp[i] = min(dp[i], dp[i-5]+1) #3kg vs 5kg 했을때 카운트가 더 작은걸로 업데이트\n",
    "        \n",
    "print(dp[n] if dp[n]<5001 else -1) #5001보다 작으면(한번이라도 업데이트 되었으면) 그대로 출력 아니면 방법이 없는것이므로 -1 출력"
   ]
  },
  {
   "cell_type": "markdown",
   "metadata": {},
   "source": [
    "# 2579 계단 오르기"
   ]
  },
  {
   "cell_type": "markdown",
   "metadata": {},
   "source": [
    "첫번째 계단 경우의 수 1  \n",
    "두번째 계단 경우의 수 1,2 또는 바로 2  \n",
    "세번째 계단 경우의 수 1,3 또는 2,3  \n",
    "네번째 계단 경우의 수 1,2,4 또는 1,3,4 또는 2,4  \n",
    "1,2,4와 2,4 는 둘다 2,4 로 같음\n",
    "따라서 세번째 계단 부터는 한칸가고 두칸이냐 두칸가고 한칸이냐 차이임  \n",
    "두칸 전에서 왔으면 상관 없는데 한칸 전에서 왔으면 세칸 전 + 한칸전 + 현재칸이 되어야 함(3번연속 밟으면 안되므로)"
   ]
  },
  {
   "cell_type": "code",
   "execution_count": null,
   "metadata": {},
   "outputs": [],
   "source": [
    "N = int(input())\n",
    "dp = [0]*(N+1)\n",
    "print(dp)\n",
    "stair = [0]\n",
    "for _ in range(1,N+1):\n",
    "    a = int(input())\n",
    "    stair.append(a)\n",
    "print(stair)\n",
    "dp[1] = stair[1]\n",
    "dp[2] = max(stair[1]+stair[2], stair[2])\n",
    "dp[3] = max(stair[1]+stair[3], stair[2]+stair[3])\n",
    "\n",
    "#4층 이상일때\n",
    "for n in range(4,N+1):\n",
    "    dp[n] = max(dp[n-2]+stair[n], dp[n-3]+stair[n-1]+stair[n])\n",
    "\n",
    "print(dp)"
   ]
  },
  {
   "cell_type": "markdown",
   "metadata": {},
   "source": [
    "위 처럼 하면 인덱스 에러남 ex 계단 개수가 1이면 오류  \n",
    "문제에 계단 개수는 300개 이하 자연수라고 했으니"
   ]
  },
  {
   "cell_type": "code",
   "execution_count": 1,
   "metadata": {},
   "outputs": [
    {
     "name": "stdout",
     "output_type": "stream",
     "text": [
      "12\n"
     ]
    }
   ],
   "source": [
    "N = int(input())\n",
    "dp = [0]*(301)\n",
    "\n",
    "stair = [0]*(301)\n",
    "for i in range(1,N+1):\n",
    "    a = int(input())\n",
    "    stair[i] = a\n",
    "    \n",
    "dp[1] = stair[1]\n",
    "dp[2] = max(stair[1]+stair[2], stair[2])\n",
    "dp[3] = max(stair[1]+stair[3], stair[2]+stair[3])\n",
    "\n",
    "for n in range(4,N+1):\n",
    "    dp[n] = max(dp[n-2]+stair[n], dp[n-3]+stair[n-1]+stair[n])\n",
    "\n",
    "print(dp[N])"
   ]
  },
  {
   "cell_type": "markdown",
   "metadata": {},
   "source": [
    "# 17103 골드바흐 파티션"
   ]
  },
  {
   "cell_type": "code",
   "execution_count": 1,
   "metadata": {},
   "outputs": [
    {
     "name": "stdout",
     "output_type": "stream",
     "text": [
      "0\n"
     ]
    }
   ],
   "source": [
    "def chae(N):\n",
    "    plst = [True]*N #모두 소수라고 간주\n",
    "    plst[0] = False\n",
    "    plst[1] = False #0,1은 소수가 아니므로 그냥 False 처리\n",
    "    m = int(N ** 0.5) # 검사를 크기의 제곱근 만큼만 하면 된다\n",
    "    for i in range(2,m+1):\n",
    "        if plst[i] == True: #소수일경우 검사\n",
    "            for j in range(i+i, N , i):\n",
    "                plst[j] = False #i의 배수일경우 False 처리\n",
    "                \n",
    "    return plst #인덱스번호가 소수이면 True가 들어가 있음\n",
    "\n",
    "sosu = chae(1000001)\n",
    "\n",
    "# 입력받은 수를 소수의 합으로 표현해주는 함수\n",
    "def gold(n):\n",
    "    cnt = 0\n",
    "    for i in range(3, len(sosu), 2): #짝수는 소수가 될수 없으므로 홀수만\n",
    "        if sosu[i] and sosu[n-i]: #i번째도 소수이고 n-i번째도 소수이면 카운트 +1\n",
    "            if i > n-i:\n",
    "                break\n",
    "            cnt += 1\n",
    "    return cnt\n",
    "\n",
    "n = int(input())\n",
    "for _ in range(n):\n",
    "    a = int(input())\n",
    "    if a ==4:\n",
    "        print(1)\n",
    "    else:\n",
    "        print(gold(a))"
   ]
  },
  {
   "cell_type": "markdown",
   "metadata": {},
   "source": [
    "이 문제에는 하나의 예외가 있는데 4일때 2+2로 표현이 가능하다는 것이다..  \n",
    "채점이 100%에서 틀리면 경계값을 의심해 보자"
   ]
  },
  {
   "cell_type": "markdown",
   "metadata": {},
   "source": [
    "# 2193번 이친수"
   ]
  },
  {
   "cell_type": "markdown",
   "metadata": {},
   "source": [
    "경우의 수  \n",
    "자리수가 1일때 1밖에 안됨\n",
    "자리수가 2일때 10밖에 안됨  \n",
    "자리수가 3일때 101,100 이 됨  \n",
    "자리수가 4일때 1010,1000,1001 이 됨  \n",
    "즉 -1 자리수에서 0으로 끝나면 0,1 두가지 경우가 가능하고 1로 끝났으면 0 한가지 경우의수 밖에 안 된다. \n",
    "숫자로보면 1, 1, 2, 3, 5 ... 피보나치수열임  "
   ]
  },
  {
   "cell_type": "code",
   "execution_count": 9,
   "metadata": {},
   "outputs": [
    {
     "name": "stdout",
     "output_type": "stream",
     "text": [
      "55\n"
     ]
    }
   ],
   "source": [
    "def fib(n):\n",
    "    res=[0]*(91)\n",
    "    res[1] = 1\n",
    "    res[2] = 1\n",
    "    for i in range(3,n+1):\n",
    "        res[i] = res[i-2] + res[i-1]\n",
    "    return res[n]\n",
    "n = int(input())\n",
    "print(fib(n))"
   ]
  },
  {
   "cell_type": "markdown",
   "metadata": {},
   "source": [
    "# 17087번 숨바꼭질 6"
   ]
  },
  {
   "cell_type": "markdown",
   "metadata": {},
   "source": [
    "위치 S에서 + - D를 해서 A를 만드는 D의 최댓값?  \n",
    "S가1 A가1개이면 D = S - A 그자체"
   ]
  },
  {
   "cell_type": "markdown",
   "metadata": {},
   "source": [
    "D의 원소들 중 나머지 원소들의 약수 중 가장 큰 (최대공약수)를 찾으면 되지 않을까 생각이 듦."
   ]
  },
  {
   "cell_type": "code",
   "execution_count": 34,
   "metadata": {},
   "outputs": [
    {
     "name": "stdout",
     "output_type": "stream",
     "text": [
      "2\n"
     ]
    }
   ],
   "source": [
    "N, S =map(int, input().split())\n",
    "A = list(map(int, input().split()))\n",
    "\n",
    "D = []\n",
    "for i in range(N):\n",
    "    D.append(abs(A[i] - S))\n",
    "\n",
    "print(min(D))"
   ]
  },
  {
   "cell_type": "markdown",
   "metadata": {},
   "source": [
    "그냥 D에서 min 값을 뽑으면 될 것 같아서 해봤는데 역시 틀렸습니다가 뜸.(예시는 다 맞음)  \n",
    "math 라이브러리에 최대공약수 함수가 있음"
   ]
  },
  {
   "cell_type": "code",
   "execution_count": null,
   "metadata": {},
   "outputs": [],
   "source": [
    "import math\n",
    "\n",
    "N, S =map(int, input().split())\n",
    "A = list(map(int, input().split()))\n",
    "\n",
    "D = []\n",
    "\n",
    "for i in range(N):\n",
    "    D.append(abs(A[i] - S))\n",
    "\n",
    "if N == 1:\n",
    "    res = D[0]\n",
    "\n",
    "else:\n",
    "    res = math.gcd(D[0], D[1])\n",
    "    for i in range(2,N):\n",
    "        res = math.gcd(res, D[i])\n",
    "\n",
    "print(res)"
   ]
  },
  {
   "cell_type": "markdown",
   "metadata": {},
   "source": [
    "math.gcd에 인자로 무조건 2개씩 값이 들어가야 해서 위처럼 비교했다. python3.9 부터는 인자로 여러개가 들어와도 된다고 한다. 리스트 받게 해줘.."
   ]
  }
 ],
 "metadata": {
  "interpreter": {
   "hash": "1e5de5bc21757a8e9ffeaee1a4e988a914d63a2f917aa6a85d6a3b15bbfb59dd"
  },
  "kernelspec": {
   "display_name": "Python 3.8.0 64-bit (system)",
   "language": "python",
   "name": "python3"
  },
  "language_info": {
   "codemirror_mode": {
    "name": "ipython",
    "version": 3
   },
   "file_extension": ".py",
   "mimetype": "text/x-python",
   "name": "python",
   "nbconvert_exporter": "python",
   "pygments_lexer": "ipython3",
   "version": "3.8.0"
  },
  "orig_nbformat": 4
 },
 "nbformat": 4,
 "nbformat_minor": 2
}
