{
 "cells": [
  {
   "cell_type": "markdown",
   "metadata": {},
   "source": [
    "# 2941 크로아티아 알파벳"
   ]
  },
  {
   "cell_type": "markdown",
   "metadata": {},
   "source": [
    "wordlist로 크로아티아 알파벳들을 넣어놓은 리스트의 알파벳들이 입력된 단어에 존재하면  \n",
    "str.count로 몇개가 있는지 카운트 추가, 나온 알파벳을 없애주었다. 하지만 이렇게 하면 nljj같은 경우 lj를 먼저 찾아서 nj가 되어서 다시 nj가 카운트되어 3이 나와야 하는데 2가 나와버림"
   ]
  },
  {
   "cell_type": "code",
   "execution_count": 14,
   "metadata": {},
   "outputs": [
    {
     "name": "stdout",
     "output_type": "stream",
     "text": [
      "6\n"
     ]
    }
   ],
   "source": [
    "wordlist = ['c=','c-','dz=','d-','lj','nj','s=','z=']\n",
    "word = input()\n",
    "\n",
    "def check(word):\n",
    "    cnt = 0\n",
    "    for i in range(len(wordlist)):\n",
    "        if wordlist[i] in word:\n",
    "         cnt = cnt + word.count(wordlist[i])\n",
    "         word = word.replace(wordlist[i],\"\")\n",
    "    cnt = cnt + len(word)\n",
    "    return(cnt)\n",
    "\n",
    "print(check(word))\n",
    "    "
   ]
  },
  {
   "cell_type": "markdown",
   "metadata": {},
   "source": [
    "따라서 공백이 아닌 다른 문자를 넣어주고 for문 밖에서 다시한번 대체된 문자를 제거해줌. 이때 .strip()으로 공백문자까지 제거해 주어야 함."
   ]
  },
  {
   "cell_type": "code",
   "execution_count": 1,
   "metadata": {},
   "outputs": [],
   "source": [
    "import sys\n",
    "wordlist = ['c=','c-','dz=','d-','lj','nj','s=','z=']\n",
    "word = sys.stdin.readline()\n",
    "def check(word):\n",
    "    cnt = 0\n",
    "    for i in range(len(wordlist)):\n",
    "        if wordlist[i] in word:\n",
    "         cnt = cnt + word.count(wordlist[i])\n",
    "         word = word.replace(wordlist[i],\".\")\n",
    "    word = word.replace(\".\",\"\").strip()\n",
    "    cnt = cnt + len(word)\n",
    "    return(cnt)\n",
    "\n",
    "print(check(word))"
   ]
  },
  {
   "cell_type": "markdown",
   "metadata": {},
   "source": [
    "# 9012 괄호"
   ]
  },
  {
   "cell_type": "markdown",
   "metadata": {},
   "source": [
    "https://www.acmicpc.net/board/view/82668 참고했습니다"
   ]
  },
  {
   "cell_type": "markdown",
   "metadata": {},
   "source": [
    "스택 사용"
   ]
  },
  {
   "cell_type": "code",
   "execution_count": 39,
   "metadata": {},
   "outputs": [
    {
     "name": "stdout",
     "output_type": "stream",
     "text": [
      "No\n"
     ]
    }
   ],
   "source": [
    "def check(N):\n",
    "    for i in range(N):\n",
    "        lst = []\n",
    "        line = input()\n",
    "        for j in range(len(line)):\n",
    "            if line[j] == '(':\n",
    "                lst.append('(')\n",
    "            else:\n",
    "                if len(lst) == 0:\n",
    "                    lst = [False]\n",
    "                    break\n",
    "                else:\n",
    "                    lst.pop()\n",
    "        if len(lst) == 0:\n",
    "            print('YES')\n",
    "        else:\n",
    "         print('NO')\n",
    "\n",
    "N = int(input())\n",
    "check(N)"
   ]
  },
  {
   "cell_type": "markdown",
   "metadata": {},
   "source": [
    "cnt변수를 사용해서 숫자로 풀이"
   ]
  },
  {
   "cell_type": "code",
   "execution_count": 3,
   "metadata": {},
   "outputs": [
    {
     "name": "stdout",
     "output_type": "stream",
     "text": [
      "YES\n"
     ]
    }
   ],
   "source": [
    "def check(N):\n",
    "    for i in range(N):\n",
    "        cnt = 0\n",
    "        line = input()\n",
    "        for j in range(len(line)):\n",
    "            if cnt == -1:\n",
    "                break\n",
    "            elif line[j] == '(':\n",
    "                cnt += 1\n",
    "            else:\n",
    "                cnt -= 1\n",
    "        if cnt == 0:\n",
    "            print('YES')\n",
    "        else:\n",
    "            print('NO')\n",
    "\n",
    "N = int(input())\n",
    "check(N)"
   ]
  },
  {
   "cell_type": "markdown",
   "metadata": {},
   "source": [
    "이제 스택이 뭔지 알것 같다."
   ]
  }
 ],
 "metadata": {
  "interpreter": {
   "hash": "1e5de5bc21757a8e9ffeaee1a4e988a914d63a2f917aa6a85d6a3b15bbfb59dd"
  },
  "kernelspec": {
   "display_name": "Python 3.8.0 64-bit (system)",
   "language": "python",
   "name": "python3"
  },
  "language_info": {
   "codemirror_mode": {
    "name": "ipython",
    "version": 3
   },
   "file_extension": ".py",
   "mimetype": "text/x-python",
   "name": "python",
   "nbconvert_exporter": "python",
   "pygments_lexer": "ipython3",
   "version": "3.8.0"
  },
  "orig_nbformat": 4
 },
 "nbformat": 4,
 "nbformat_minor": 2
}
