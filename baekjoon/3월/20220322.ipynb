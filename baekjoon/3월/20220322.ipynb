{
 "cells": [
  {
   "cell_type": "markdown",
   "metadata": {},
   "source": [
    "# 1002번"
   ]
  },
  {
   "cell_type": "markdown",
   "metadata": {},
   "source": [
    "자세히 읽어보니 원을 두개 그려서 접점의 개수를 구하는 문제이다.\n",
    "동심원일때 조심"
   ]
  },
  {
   "cell_type": "code",
   "execution_count": 41,
   "metadata": {},
   "outputs": [],
   "source": [
    "def detecting():\n",
    "    x1,y1,r1,x2,y2,r2 = map(int,input().split())\n",
    "    d = ((x1-x2)**2 + (y1-y2)**2)**0.5\n",
    "    if d == 0 and r1==r2:\n",
    "        print(-1)\n",
    "    elif r1-r2<d<r1+r2 and d !=0:\n",
    "        print(2)\n",
    "    elif (r1+r2 == d or r1-r2 == d)and d !=0:\n",
    "        print(1)\n",
    "    else: \n",
    "        print(0)"
   ]
  },
  {
   "cell_type": "code",
   "execution_count": null,
   "metadata": {},
   "outputs": [],
   "source": [
    "n = int(input())\n",
    "for i in range(n):\n",
    "    detecting()"
   ]
  },
  {
   "cell_type": "markdown",
   "metadata": {},
   "source": [
    "예제 입력대로는 정답인데 오답이라뜸.. 놓진 조건이 있나?"
   ]
  }
 ],
 "metadata": {
  "interpreter": {
   "hash": "1e5de5bc21757a8e9ffeaee1a4e988a914d63a2f917aa6a85d6a3b15bbfb59dd"
  },
  "kernelspec": {
   "display_name": "Python 3.8.0 64-bit (system)",
   "language": "python",
   "name": "python3"
  },
  "language_info": {
   "codemirror_mode": {
    "name": "ipython",
    "version": 3
   },
   "file_extension": ".py",
   "mimetype": "text/x-python",
   "name": "python",
   "nbconvert_exporter": "python",
   "pygments_lexer": "ipython3",
   "version": "3.8.0"
  },
  "orig_nbformat": 4
 },
 "nbformat": 4,
 "nbformat_minor": 2
}
