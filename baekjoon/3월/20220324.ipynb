{
 "cells": [
  {
   "cell_type": "markdown",
   "metadata": {},
   "source": [
    "# 2447번 별찍기 - 10"
   ]
  },
  {
   "cell_type": "code",
   "execution_count": 29,
   "metadata": {},
   "outputs": [],
   "source": [
    "def star_10(n):\n",
    "    global Map\n",
    "    \n",
    "    if n == 3:\n",
    "        Map[0][:3] = Map[2][:3] = [1]*3\n",
    "        Map[1][:3] = [1, 0, 1]\n",
    "        return\n",
    "    a = n//3\n",
    "    star_10(n//3)\n",
    "    for i  in range(3):\n",
    "        for j  in range(3):\n",
    "            if i == 1 and j == 1:\n",
    "                continue\n",
    "            for k in range(a):\n",
    "                Map[a*i+k][a*j:a*(j+1)] = Map[k][:a]   "
   ]
  },
  {
   "cell_type": "code",
   "execution_count": 30,
   "metadata": {},
   "outputs": [
    {
     "name": "stdout",
     "output_type": "stream",
     "text": [
      "***\n",
      "* *\n",
      "***\n"
     ]
    }
   ],
   "source": [
    "n = int(input())\n",
    "Map = [[ 0 for i in range(n)] for  i in range(n)]\n",
    "\n",
    "star_10(n)\n",
    "\n",
    "for i in Map:\n",
    "    for j in i:\n",
    "        if j:\n",
    "            print('*', end='')\n",
    "        else:\n",
    "            print(' ', end='')\n",
    "    print()"
   ]
  },
  {
   "cell_type": "markdown",
   "metadata": {},
   "source": [
    "# 3053 택시 기하학"
   ]
  },
  {
   "cell_type": "code",
   "execution_count": 43,
   "metadata": {},
   "outputs": [
    {
     "name": "stdout",
     "output_type": "stream",
     "text": [
      "5541.769440932395\n",
      "3528.0\n"
     ]
    }
   ],
   "source": [
    "def distances(n):\n",
    "    print(n*n*3.1415926535897932)\n",
    "    print(n*n*2.000000)\n",
    "n = int(input())\n",
    "distances(n)"
   ]
  },
  {
   "cell_type": "markdown",
   "metadata": {},
   "source": [
    "# 2869 달팽이는 올라가고 싶다"
   ]
  },
  {
   "cell_type": "code",
   "execution_count": 8,
   "metadata": {},
   "outputs": [
    {
     "name": "stdout",
     "output_type": "stream",
     "text": [
      "4\n"
     ]
    }
   ],
   "source": [
    "def up(A, B, V):\n",
    "    i = 1\n",
    "    while V > 0:\n",
    "        V = V - A\n",
    "        if V > 0:\n",
    "            V = V + B\n",
    "            i+=1\n",
    "        else: \n",
    "            break\n",
    "    print(i)\n",
    "    \n",
    "\n",
    "A, B ,V = map(int, input().split())\n",
    "up(A,B,V)"
   ]
  },
  {
   "cell_type": "markdown",
   "metadata": {},
   "source": [
    "반복문으로 푸니까 시간초과... 어캐풀지"
   ]
  },
  {
   "cell_type": "markdown",
   "metadata": {},
   "source": [
    "A*(day-1) - B*(day-1) + A >= V  \n",
    "  \n",
    "ad -a -bd +b + a >=v  \n",
    "ad-bd+b>=v  \n",
    "(a-b)d + b >= v  \n",
    "d >= v-b/a-b  \n",
    "\n",
    "ceil(p/q) = floor((p+q-1)/q)   \n",
    "  \n",
    "d = v-b-1 // a-b + 1  \n",
    "요 관계를 이용해서"
   ]
  },
  {
   "cell_type": "code",
   "execution_count": 14,
   "metadata": {},
   "outputs": [
    {
     "name": "stdout",
     "output_type": "stream",
     "text": [
      "4\n",
      "3 1\n"
     ]
    }
   ],
   "source": [
    "A, B ,V = map(int, input().split())\n",
    "print((V-B-1)//(A-B) + 1)"
   ]
  }
 ],
 "metadata": {
  "interpreter": {
   "hash": "1e5de5bc21757a8e9ffeaee1a4e988a914d63a2f917aa6a85d6a3b15bbfb59dd"
  },
  "kernelspec": {
   "display_name": "Python 3.8.0 64-bit (system)",
   "language": "python",
   "name": "python3"
  },
  "language_info": {
   "codemirror_mode": {
    "name": "ipython",
    "version": 3
   },
   "file_extension": ".py",
   "mimetype": "text/x-python",
   "name": "python",
   "nbconvert_exporter": "python",
   "pygments_lexer": "ipython3",
   "version": "3.8.0"
  },
  "orig_nbformat": 4
 },
 "nbformat": 4,
 "nbformat_minor": 2
}
