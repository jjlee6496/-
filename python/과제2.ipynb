{
  "nbformat": 4,
  "nbformat_minor": 0,
  "metadata": {
    "colab": {
      "name": "과제2.ipynb",
      "provenance": [],
      "authorship_tag": "ABX9TyMkkH7xmWlq6HxTkoWcd2IF",
      "include_colab_link": true
    },
    "kernelspec": {
      "name": "python3",
      "display_name": "Python 3"
    },
    "language_info": {
      "name": "python"
    }
  },
  "cells": [
    {
      "cell_type": "markdown",
      "metadata": {
        "id": "view-in-github",
        "colab_type": "text"
      },
      "source": [
        "<a href=\"https://colab.research.google.com/github/jjlee6496/one-by-one/blob/main/python/%EA%B3%BC%EC%A0%9C2.ipynb\" target=\"_parent\"><img src=\"https://colab.research.google.com/assets/colab-badge.svg\" alt=\"Open In Colab\"/></a>"
      ]
    },
    {
      "cell_type": "markdown",
      "source": [
        "# 문제1."
      ],
      "metadata": {
        "id": "UJ8NPXtb6BA2"
      }
    },
    {
      "cell_type": "code",
      "execution_count": null,
      "metadata": {
        "colab": {
          "base_uri": "https://localhost:8080/"
        },
        "id": "He3NnRuS5-zy",
        "outputId": "594e1dc5-e8b6-4719-af4f-9c7c04e8b68f"
      },
      "outputs": [
        {
          "output_type": "stream",
          "name": "stdout",
          "text": [
            "Life is too short\n"
          ]
        }
      ],
      "source": [
        "f1 = open(\"test.txt\", 'w')\n",
        "f1.write(\"Life is too short\")\n",
        "f1.close()\n",
        "f2 = open(\"test.txt\", 'r')\n",
        "print(f2.read())"
      ]
    },
    {
      "cell_type": "markdown",
      "source": [
        "# 문제2."
      ],
      "metadata": {
        "id": "N1naWN-k6Ici"
      }
    },
    {
      "cell_type": "code",
      "execution_count": 29,
      "metadata": {
        "id": "EAiVVH4b6Ick",
        "colab": {
          "base_uri": "https://localhost:8080/"
        },
        "outputId": "caed5739-42d4-488c-a434-17ebfbd4f8e8"
      },
      "outputs": [
        {
          "output_type": "stream",
          "name": "stdout",
          "text": [
            "Life is too short\n",
            "you need java\n",
            "Life is too short\n",
            "you need python\n"
          ]
        }
      ],
      "source": [
        "f3 = open(\"test.txt\", 'w')\n",
        "f3.write(\"Life is too short\\nyou need java\")\n",
        "f3.close()\n",
        "\n",
        "print(open(\"test.txt\", 'r').read())\n",
        "\n",
        "test = open(\"test.txt\",\"r\")\n",
        "sentence = test.read()\n",
        "f4 = open(\"test2.txt\",\"w\")\n",
        "f4.write(sentence.replace(\"java\", \"python\"))\n",
        "f4.close()\n",
        "\n",
        "print(open(\"test2.txt\", 'r').read())"
      ]
    },
    {
      "cell_type": "markdown",
      "source": [
        "# 문제3."
      ],
      "metadata": {
        "id": "PXtWF-hu6IgR"
      }
    },
    {
      "cell_type": "code",
      "execution_count": 21,
      "metadata": {
        "id": "gDmeB4oz6IgT",
        "colab": {
          "base_uri": "https://localhost:8080/"
        },
        "outputId": "f7152620-b37b-470e-bd80-01cc8d5390b6"
      },
      "outputs": [
        {
          "output_type": "stream",
          "name": "stdout",
          "text": [
            "3\n"
          ]
        }
      ],
      "source": [
        "class Calculator():\n",
        "  def __init__(self):\n",
        "    self.value = 0\n",
        "  def add(self, val):\n",
        "    self.value += val\n",
        "\n",
        "class UpgradeCalculator(Calculator):\n",
        "  def __init__(self):\n",
        "    super().__init__()\n",
        "  def minus(self, val):\n",
        "    self.value -= val\n",
        "\n",
        "cal = UpgradeCalculator()\n",
        "cal.add(10)\n",
        "cal.minus(7)\n",
        "print(cal.value)"
      ]
    },
    {
      "cell_type": "markdown",
      "source": [
        "# 문제4."
      ],
      "metadata": {
        "id": "f8kVt57t6IjA"
      }
    },
    {
      "cell_type": "code",
      "execution_count": 27,
      "metadata": {
        "id": "NW7eqH1J6IjB",
        "colab": {
          "base_uri": "https://localhost:8080/"
        },
        "outputId": "7729abc6-00ed-48f8-cbd5-cf65ee617b21"
      },
      "outputs": [
        {
          "output_type": "stream",
          "name": "stdout",
          "text": [
            "100\n"
          ]
        }
      ],
      "source": [
        "class Calculator:\n",
        " def __init__(self):\n",
        "  self.value = 0\n",
        " def add(self, val):\n",
        "  self.value += val\n",
        "\n",
        "class MaxLimitCalculator(Calculator):\n",
        "  def __init__(self):\n",
        "    super().__init__()\n",
        "  def add(self, val):\n",
        "    self.value += val\n",
        "    if self.value > 100:\n",
        "      self.value = 100\n",
        "\n",
        "cal = MaxLimitCalculator()\n",
        "cal.add(50) # 50 더하기\n",
        "cal.add(60) # 60 더하기\n",
        "print(cal.value) # 100 출력\n"
      ]
    }
  ]
}