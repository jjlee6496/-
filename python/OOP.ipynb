{
  "nbformat": 4,
  "nbformat_minor": 0,
  "metadata": {
    "colab": {
      "name": "OOP.ipynb",
      "provenance": [],
      "authorship_tag": "ABX9TyP6GKJaaJtLxNmb3vDDOwkw",
      "include_colab_link": true
    },
    "kernelspec": {
      "name": "python3",
      "display_name": "Python 3"
    },
    "language_info": {
      "name": "python"
    }
  },
  "cells": [
    {
      "cell_type": "markdown",
      "metadata": {
        "id": "view-in-github",
        "colab_type": "text"
      },
      "source": [
        "<a href=\"https://colab.research.google.com/github/jjlee6496/one-by-one/blob/main/python/OOP.ipynb\" target=\"_parent\"><img src=\"https://colab.research.google.com/assets/colab-badge.svg\" alt=\"Open In Colab\"/></a>"
      ]
    },
    {
      "cell_type": "markdown",
      "source": [
        "# 객체란?\n",
        "* 속성(상태,특징)과 행위(행동,동작,기능)로 구성된 대상\n",
        "* 속성: 객체의 특징 -> 변수로 구현\n",
        "* 행위: 객체가 할 수 있는 일 -> 함수로 구현\n",
        "* 객체는 변수와 함수의 묶음\n",
        "OOP(Object Oriented Programming)-객체를 만들고 이용할 수 있는 기능을 제공하는 프로그래밍 언어  "
      ],
      "metadata": {
        "id": "-uELTg3WVbrD"
      }
    },
    {
      "cell_type": "markdown",
      "source": [
        "![OOP1.PNG](https://github.com/jjlee6496/one-by-one/tree/main/python/images/OOP1.PNG)"
      ],
      "metadata": {
        "id": "tJrp8npIVe7R"
      }
    },
    {
      "cell_type": "code",
      "execution_count": 20,
      "metadata": {
        "id": "ogelSExOVTuy"
      },
      "outputs": [],
      "source": [
        "class Bicycle():\n",
        "  def __init__(self,wheel_size,color):\n",
        "      self.wheel_size = wheel_size\n",
        "      self.color = color\n",
        "  def move(self, speed):\n",
        "    print(\"자전거: 시속{0}킬로미터로 전진\".format(speed))\n",
        "  def turn(self, direction):\n",
        "    print(\"자전거: {0}회전\".format(direction))\n",
        "  def stop(self):\n",
        "    print(\"자전거({0},{1}): 정지\".format(self.wheel_size, self.color))"
      ]
    },
    {
      "cell_type": "code",
      "source": [
        "my_bicycle = Bicycle()\n",
        "my_bicycle.wheel_size = 30\n",
        "my_bicycle.color = 'black'"
      ],
      "metadata": {
        "colab": {
          "base_uri": "https://localhost:8080/",
          "height": 209
        },
        "id": "6cpint5oYJWc",
        "outputId": "5ea61906-f356-4fef-ad40-3f617f0a6db4"
      },
      "execution_count": 21,
      "outputs": [
        {
          "output_type": "error",
          "ename": "TypeError",
          "evalue": "ignored",
          "traceback": [
            "\u001b[0;31m---------------------------------------------------------------------------\u001b[0m",
            "\u001b[0;31mTypeError\u001b[0m                                 Traceback (most recent call last)",
            "\u001b[0;32m<ipython-input-21-895b58da0fa4>\u001b[0m in \u001b[0;36m<module>\u001b[0;34m()\u001b[0m\n\u001b[0;32m----> 1\u001b[0;31m \u001b[0mmy_bicycle\u001b[0m \u001b[0;34m=\u001b[0m \u001b[0mBicycle\u001b[0m\u001b[0;34m(\u001b[0m\u001b[0;34m)\u001b[0m\u001b[0;34m\u001b[0m\u001b[0;34m\u001b[0m\u001b[0m\n\u001b[0m\u001b[1;32m      2\u001b[0m \u001b[0mmy_bicycle\u001b[0m\u001b[0;34m.\u001b[0m\u001b[0mwheel_size\u001b[0m \u001b[0;34m=\u001b[0m \u001b[0;36m30\u001b[0m\u001b[0;34m\u001b[0m\u001b[0;34m\u001b[0m\u001b[0m\n\u001b[1;32m      3\u001b[0m \u001b[0mmy_bicycle\u001b[0m\u001b[0;34m.\u001b[0m\u001b[0mcolor\u001b[0m \u001b[0;34m=\u001b[0m \u001b[0;34m'black'\u001b[0m\u001b[0;34m\u001b[0m\u001b[0;34m\u001b[0m\u001b[0m\n",
            "\u001b[0;31mTypeError\u001b[0m: __init__() missing 2 required positional arguments: 'wheel_size' and 'color'"
          ]
        }
      ]
    },
    {
      "cell_type": "code",
      "source": [
        "my_bicycle = Bicycle(30,'black')"
      ],
      "metadata": {
        "id": "7Q8lxeREae1y"
      },
      "execution_count": 23,
      "outputs": []
    },
    {
      "cell_type": "code",
      "source": [
        "my_bicycle.wheel_size, my_bicycle.color"
      ],
      "metadata": {
        "colab": {
          "base_uri": "https://localhost:8080/"
        },
        "id": "eAVxRf1JYWgU",
        "outputId": "eec727e1-654d-433d-bb62-635c76816e2f"
      },
      "execution_count": 24,
      "outputs": [
        {
          "output_type": "execute_result",
          "data": {
            "text/plain": [
              "(30, 'black')"
            ]
          },
          "metadata": {},
          "execution_count": 24
        }
      ]
    },
    {
      "cell_type": "code",
      "source": [
        "my_bicycle.move(30)"
      ],
      "metadata": {
        "colab": {
          "base_uri": "https://localhost:8080/"
        },
        "id": "AIcCTtKVYdKc",
        "outputId": "c17071b9-77ab-4303-a310-730d3dbd51de"
      },
      "execution_count": 25,
      "outputs": [
        {
          "output_type": "stream",
          "name": "stdout",
          "text": [
            "자전거: 시속30킬로미터로 전진\n"
          ]
        }
      ]
    },
    {
      "cell_type": "code",
      "source": [
        "my_bicycle.turn(\"우\")"
      ],
      "metadata": {
        "colab": {
          "base_uri": "https://localhost:8080/"
        },
        "id": "P_H-ceZrYdGP",
        "outputId": "40312b35-56e7-4189-e2ef-d631b1b95269"
      },
      "execution_count": 26,
      "outputs": [
        {
          "output_type": "stream",
          "name": "stdout",
          "text": [
            "자전거: 우회전\n"
          ]
        }
      ]
    },
    {
      "cell_type": "code",
      "source": [
        "my_bicycle.stop()"
      ],
      "metadata": {
        "colab": {
          "base_uri": "https://localhost:8080/"
        },
        "id": "dyvbU_5pY8QT",
        "outputId": "901dfc4b-d220-4ba1-f36a-b773fe976486"
      },
      "execution_count": 27,
      "outputs": [
        {
          "output_type": "stream",
          "name": "stdout",
          "text": [
            "자전거(30,black): 정지\n"
          ]
        }
      ]
    },
    {
      "cell_type": "markdown",
      "source": [
        "클래스에서 사용하는변수\n",
        "* 위치에 따라 클래스변수와 인스턴스변수로 구분\n",
        "* 클래스변수:클래스 내에 있지만 함수밖에서 '변수명= 데이터형식'으로 정의한 변수\n",
        "  * 클래스에서 생성한 모든 객체가 공통으로 사용가능\n",
        "  * '클래스명.변수명' 형식으로 접근\n",
        "* 인스턴수변수: 클래스 내의 함수 안에서 'self.변수명 = 데이터'형식으로 정의한 변수\n",
        "  * 클래스 내의 모든 함수에서 'self.변수명'으로 접근\n",
        "  * 각 인스턴스(객체)에서 개별적으로 관리하며, 객체를 생성한 후에 '객체명.변수명' 형식으로 접근"
      ],
      "metadata": {
        "id": "B9jhi0CMZ5Gb"
      }
    },
    {
      "cell_type": "code",
      "source": [
        "class Car():\n",
        "  instance_count = 0\n",
        "  def __init__(self, size, color):\n",
        "    self.size = size\n",
        "    self.color = color\n",
        "    Car.instance_count += 1\n",
        "    print(f\"자동차 객체수: {Car.instance_count}\")\n",
        "  def move(self):\n",
        "    print(f\"자동차({self.color},{self.color})가 움직입니다.\")\n",
        "\n",
        "car1 = Car('small','white')"
      ],
      "metadata": {
        "colab": {
          "base_uri": "https://localhost:8080/"
        },
        "id": "u7y_Py_wa2RV",
        "outputId": "0fd07646-ade6-4de6-d862-1f3e6598c968"
      },
      "execution_count": 29,
      "outputs": [
        {
          "output_type": "stream",
          "name": "stdout",
          "text": [
            "자동차 객체수: 1\n"
          ]
        }
      ]
    },
    {
      "cell_type": "code",
      "source": [
        "car2 = Car('big','black')\n",
        "car2.move()"
      ],
      "metadata": {
        "colab": {
          "base_uri": "https://localhost:8080/"
        },
        "id": "6mYjMrGmcIT-",
        "outputId": "26d90adf-158f-4291-9540-abf9f8fa7a09"
      },
      "execution_count": 32,
      "outputs": [
        {
          "output_type": "stream",
          "name": "stdout",
          "text": [
            "자동차 객체수: 2\n",
            "자동차(black,black)가 움직입니다.\n"
          ]
        }
      ]
    },
    {
      "cell_type": "code",
      "source": [
        "Car.instance_count"
      ],
      "metadata": {
        "colab": {
          "base_uri": "https://localhost:8080/"
        },
        "id": "XjknYNXEccrG",
        "outputId": "eafcbbba-21a1-4e8d-8cd4-4aa9ee47419e"
      },
      "execution_count": 33,
      "outputs": [
        {
          "output_type": "execute_result",
          "data": {
            "text/plain": [
              "2"
            ]
          },
          "metadata": {},
          "execution_count": 33
        }
      ]
    },
    {
      "cell_type": "code",
      "source": [
        "car1.instance_count"
      ],
      "metadata": {
        "colab": {
          "base_uri": "https://localhost:8080/"
        },
        "id": "z77W3JFFeIZH",
        "outputId": "7115f1fc-7ebc-4939-80d9-b945a3004676"
      },
      "execution_count": 34,
      "outputs": [
        {
          "output_type": "execute_result",
          "data": {
            "text/plain": [
              "2"
            ]
          },
          "metadata": {},
          "execution_count": 34
        }
      ]
    },
    {
      "cell_type": "markdown",
      "source": [
        "클래스변수와 인스턴스 변수가 이름이 다르면 '객체.클래스변수' 이런식으로 접근이 가능하지만 이름이 같을때는 이렇게 접근 불가 (오버라이드?)"
      ],
      "metadata": {
        "id": "NsXwels6c9bf"
      }
    },
    {
      "cell_type": "code",
      "source": [
        "class Car():\n",
        "  instance_count = 0\n",
        "  def __init__(self, size, color):\n",
        "    self.size = size\n",
        "    self.color = color\n",
        "    Car.instance_count += 1\n",
        "    print(f\"자동차 객체수: {Car.instance_count}\")\n",
        "  def move(self, speed):\n",
        "    self.speed = speed\n",
        "    print(f\"자동차({self.size},{self.color})가 움직입니다.\")\n",
        "    print(f\"현재속도 {self.speed}\")\n",
        "  def auto_cruise(self):\n",
        "    self.move(self.speed)"
      ],
      "metadata": {
        "id": "ob4w-3PNeHNc"
      },
      "execution_count": 41,
      "outputs": []
    },
    {
      "cell_type": "code",
      "source": [
        "car1 = Car('small','white')\n",
        "car1.move(20)\n",
        "car2 = Car('big','black')\n",
        "car2.move(30)"
      ],
      "metadata": {
        "colab": {
          "base_uri": "https://localhost:8080/"
        },
        "id": "__wawENdfX6Y",
        "outputId": "8105d312-a690-4204-efc1-75ab9a2f8a21"
      },
      "execution_count": 42,
      "outputs": [
        {
          "output_type": "stream",
          "name": "stdout",
          "text": [
            "자동차 객체수: 1\n",
            "자동차(small,white)가 움직입니다.\n",
            "현재속도 20\n",
            "자동차 객체수: 2\n",
            "자동차(big,black)가 움직입니다.\n",
            "현재속도 30\n"
          ]
        }
      ]
    },
    {
      "cell_type": "code",
      "source": [
        "car1.color,car1.size,car1.speed"
      ],
      "metadata": {
        "colab": {
          "base_uri": "https://localhost:8080/"
        },
        "id": "ObcUSDY7fsaz",
        "outputId": "465c6522-2a4e-4158-bd22-0da67aa43466"
      },
      "execution_count": 43,
      "outputs": [
        {
          "output_type": "execute_result",
          "data": {
            "text/plain": [
              "('white', 'small', 20)"
            ]
          },
          "metadata": {},
          "execution_count": 43
        }
      ]
    },
    {
      "cell_type": "code",
      "source": [
        "car1.auto_cruise()"
      ],
      "metadata": {
        "colab": {
          "base_uri": "https://localhost:8080/"
        },
        "id": "YwIWv6Yzf0Kt",
        "outputId": "22851c3c-186f-4fc1-c480-85213888afce"
      },
      "execution_count": 44,
      "outputs": [
        {
          "output_type": "stream",
          "name": "stdout",
          "text": [
            "자동차(small,white)가 움직입니다.\n",
            "현재속도 20\n"
          ]
        }
      ]
    },
    {
      "cell_type": "markdown",
      "source": [
        "# 정적 메소드, 클래스 메소드"
      ],
      "metadata": {
        "id": "nNFXa-XcgKyH"
      }
    },
    {
      "cell_type": "markdown",
      "source": [
        "정적 메소드\n",
        "* 클래스와 관련이 있어서 클래스 내에 두기는 하지만 클래스나 클래스의 인스턴스와는 무관하게 독립적으로 동작하는 함수를 만들고 싶을때 사용\n",
        "* 함수를 정의할 때 인자로 self를 사용하지 않으며 정적 메소드 안에서는 클래스나 클래스 변수에 접근 불가\n",
        "* 함수 앞에 데코레이터인 @staticmethod를 선언\n",
        "* 정적메소드는 날짜 및 시간정보 제공, 환율정보 제공, 단위변환과 같이 객체와 관계없이 독립적으로 동작하는 함수를 만들 때 이용"
      ],
      "metadata": {
        "id": "YPi1YoHOmmD6"
      }
    },
    {
      "cell_type": "markdown",
      "source": [
        "클래스 메소드\n",
        "* 클래스 변수를 사용하기 위한 함수\n",
        "* 함수를 정의할 때 첫번째 인자로 클래스를 넘겨받는 cls필요\n",
        "* 함수앞에 데코레이터인 @classmethod지정"
      ],
      "metadata": {
        "id": "ahdwm59vnLY0"
      }
    },
    {
      "cell_type": "code",
      "source": [
        "class Car():\n",
        "  instance_count = 0\n",
        "  def __init__(self, size, color):\n",
        "    self.size = size\n",
        "    self.color = color\n",
        "    Car.instance_count += 1\n",
        "    print(f\"자동차 객체수: {Car.instance_count}\")\n",
        "  def move(self, speed):\n",
        "    self.speed = speed\n",
        "    print(f\"자동차({self.size},{self.color})가 움직입니다.\")\n",
        "    print(f\"현재속도 {self.speed}\")\n",
        "  def auto_cruise(self):\n",
        "    self.move(self.speed)\n",
        "   \n",
        "  #정적 메소드\n",
        "  @staticmethod\n",
        "  def check_type(model_code):\n",
        "    if model_code >= 20:\n",
        "       print(\"전기차\")\n",
        "    elif 10 <= model_code < 20:\n",
        "      print(\"가솔린차\")\n",
        "    else:\n",
        "      print(\"디젤차\")\n",
        "  #클래스 메소드\n",
        "  @classmethod\n",
        "  def get_count_instance(cls):\n",
        "    print(f\"자동차객체수: {cls.instance_count}\")"
      ],
      "metadata": {
        "id": "TJoIlOIngyzZ"
      },
      "execution_count": 56,
      "outputs": []
    },
    {
      "cell_type": "code",
      "source": [
        "Car.check_type(22)"
      ],
      "metadata": {
        "colab": {
          "base_uri": "https://localhost:8080/"
        },
        "id": "tJpO93U-hbBU",
        "outputId": "e0001e9c-8245-473f-c154-7fe72412251f"
      },
      "execution_count": 57,
      "outputs": [
        {
          "output_type": "stream",
          "name": "stdout",
          "text": [
            "전기차\n"
          ]
        }
      ]
    },
    {
      "cell_type": "code",
      "source": [
        "car1 = Car('big','black')\n",
        "car2 = Car('big','whtie')\n",
        "car3 = Car('big','blue')"
      ],
      "metadata": {
        "colab": {
          "base_uri": "https://localhost:8080/"
        },
        "id": "F328DulJxOcy",
        "outputId": "1f9f2e73-8657-47b9-9fcc-e80ce8c4a2da"
      },
      "execution_count": 59,
      "outputs": [
        {
          "output_type": "stream",
          "name": "stdout",
          "text": [
            "자동차 객체수: 1\n",
            "자동차 객체수: 2\n",
            "자동차 객체수: 3\n"
          ]
        }
      ]
    },
    {
      "cell_type": "code",
      "source": [
        "Car.get_count_instance()"
      ],
      "metadata": {
        "colab": {
          "base_uri": "https://localhost:8080/"
        },
        "id": "AsuST40-h3wZ",
        "outputId": "b046d639-62ab-4fca-a138-ad6651ed5fda"
      },
      "execution_count": 60,
      "outputs": [
        {
          "output_type": "stream",
          "name": "stdout",
          "text": [
            "자동차객체수: 3\n"
          ]
        }
      ]
    },
    {
      "cell_type": "markdown",
      "source": [
        "# 클래스 상속"
      ],
      "metadata": {
        "id": "7FZ7_H4giRLO"
      }
    },
    {
      "cell_type": "markdown",
      "source": [
        "상속: 이미 만들어진 클래스의 변수와 함수를 그데로 이어받고 새로운 내용만 추가해서 클래스를 선언\n",
        "* 상속관계에 있는 두 클래스는 부모 자식 관계로 표현\n",
        "* 부모 클래스: 상위클래스 혹은 슈퍼클래스\n",
        "* 자식 클래스: 하위클래스 혹은 서브 클래스\n",
        "* 자식 클래스가 부모 클래스로부터 상속을 받으면 자식 클래스는 부모 클래스의 속성(변수)과 행위(함수)를 그대로 이용 가능\n",
        "* 상속 후에는 자식 클래스만 갖는 속성과 행위를 추가할 수 있음"
      ],
      "metadata": {
        "id": "KklPYtvDxW04"
      }
    },
    {
      "cell_type": "code",
      "source": [
        "class Bicycle():\n",
        "  def __init__(self,wheel_size,color):\n",
        "      self.wheel_size = wheel_size\n",
        "      self.color = color\n",
        "  def move(self, speed):\n",
        "    print(\"자전거: 시속{0}킬로미터로 전진\".format(speed))\n",
        "  def turn(self, direction):\n",
        "    print(\"자전거: {0}회전\".format(direction))\n",
        "  def stop(self):\n",
        "    print(\"자전거({0},{1}): 정지\".format(self.wheel_size, self.color))"
      ],
      "metadata": {
        "id": "AYJCDDn62dsI"
      },
      "execution_count": null,
      "outputs": []
    },
    {
      "cell_type": "code",
      "source": [
        "class FoldingBicycle(Bicycle):\n",
        "\n",
        "  def __init__(self, wheel_size, color ,state): # FoldingBicycle 초기화\n",
        "    #Bicycle.__init__(self, wheel_size, color) # Bicycle의 초기화 재사용\n",
        "    super().__init__(wheel_size, color) # 이렇게도 가능\n",
        "    self.state = state # 자식 클래스에서 새로 추가한 변수\n",
        "  def fold(self):\n",
        "    self.state = 'folding'\n",
        "    print(f\"자전거: 접기, state = {self.state}\")\n",
        "\n",
        "  def unfold(self):\n",
        "    self.state = 'unfolding'\n",
        "    print(f\"자전거: 펴기, state = {self.state}\")"
      ],
      "metadata": {
        "id": "yBFDvk-GxWbs"
      },
      "execution_count": 67,
      "outputs": []
    },
    {
      "cell_type": "code",
      "source": [
        "folding_bicycle = FoldingBicycle(27, 'white', 'unfolding')\n",
        "folding_bicycle.move(20)\n",
        "folding_bicycle.fold()\n",
        "folding_bicycle.unfold()"
      ],
      "metadata": {
        "colab": {
          "base_uri": "https://localhost:8080/"
        },
        "id": "x-AjTAPi12bk",
        "outputId": "f01002b4-ff72-4024-e959-f0103f1b0f0c"
      },
      "execution_count": 68,
      "outputs": [
        {
          "output_type": "stream",
          "name": "stdout",
          "text": [
            "자전거: 시속20킬로미터로 전진\n",
            "자전거: 접기, state = folding\n",
            "자전거: 펴기, state = unfolding\n"
          ]
        }
      ]
    }
  ]
}